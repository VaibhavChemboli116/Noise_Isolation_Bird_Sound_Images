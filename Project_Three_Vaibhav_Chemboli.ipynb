{
 "cells": [
  {
   "cell_type": "code",
   "execution_count": null,
   "id": "6b7c2bf5",
   "metadata": {},
   "outputs": [],
   "source": []
  },
  {
   "cell_type": "markdown",
   "id": "77e73b2e",
   "metadata": {},
   "source": [
    "# 1. Build an image segmentation model using pytorch"
   ]
  },
  {
   "cell_type": "code",
   "execution_count": 1,
   "id": "d2367ad3",
   "metadata": {
    "_cell_guid": "b1076dfc-b9ad-4769-8c92-a6c4dae69d19",
    "_uuid": "8f2839f25d086af736a60e9eeb907d3b93b6e0e5",
    "execution": {
     "iopub.execute_input": "2024-12-13T23:37:24.039169Z",
     "iopub.status.busy": "2024-12-13T23:37:24.038807Z",
     "iopub.status.idle": "2024-12-13T23:37:34.076121Z",
     "shell.execute_reply": "2024-12-13T23:37:34.074971Z"
    },
    "papermill": {
     "duration": 10.043929,
     "end_time": "2024-12-13T23:37:34.078390",
     "exception": false,
     "start_time": "2024-12-13T23:37:24.034461",
     "status": "completed"
    },
    "tags": []
   },
   "outputs": [
    {
     "name": "stdout",
     "output_type": "stream",
     "text": [
      "Using device: cuda\n",
      "Train Loader:\n",
      "Images batch shape: torch.Size([16, 3, 256, 256]), Masks batch shape: torch.Size([16, 1, 256, 256])\n",
      "\n",
      "Validation Loader:\n",
      "Images batch shape: torch.Size([16, 3, 256, 256]), Masks batch shape: torch.Size([16, 1, 256, 256])\n"
     ]
    }
   ],
   "source": [
    "import torch\n",
    "import torch.nn as nn\n",
    "from torch.utils.data import DataLoader, Dataset\n",
    "import torchvision.transforms as transforms\n",
    "from PIL import Image\n",
    "import os\n",
    "import numpy as np\n",
    "\n",
    "device = torch.device(\"cuda\" if torch.cuda.is_available() else \"cpu\")\n",
    "print(f\"Using device: {device}\")\n",
    "\n",
    "class BirdSoundDataset(Dataset):\n",
    "    def __init__(self, image_dir, mask_dir, transform=None, target_size=(256, 256)):\n",
    "        self.image_dir = image_dir\n",
    "        self.mask_dir = mask_dir\n",
    "        self.image_filenames = sorted(os.listdir(image_dir))\n",
    "        self.mask_filenames = sorted(os.listdir(mask_dir))\n",
    "        self.transform = transform\n",
    "        self.target_size = target_size\n",
    "\n",
    "    def __len__(self):\n",
    "        return len(self.image_filenames)\n",
    "\n",
    "    def __getitem__(self, idx):\n",
    "        img_path = os.path.join(self.image_dir, self.image_filenames[idx])\n",
    "        mask_path = os.path.join(self.mask_dir, self.mask_filenames[idx])\n",
    "        \n",
    "        image = Image.open(img_path).convert(\"RGB\")\n",
    "        mask = Image.open(mask_path).convert(\"L\")\n",
    "        \n",
    "        image = image.resize(self.target_size)\n",
    "        mask = mask.resize(self.target_size)\n",
    "        \n",
    "        mask = np.array(mask) / 255.0\n",
    "        mask = torch.tensor(mask, dtype=torch.float32).unsqueeze(0)\n",
    "        \n",
    "        if self.transform:\n",
    "            image = self.transform(image)\n",
    "        \n",
    "        return image, mask\n",
    "\n",
    "transform = transforms.Compose([\n",
    "    transforms.ToTensor(),\n",
    "    transforms.Normalize(mean=[0.5, 0.5, 0.5], std=[0.5, 0.5, 0.5])\n",
    "])\n",
    "\n",
    "train_dataset = BirdSoundDataset(\n",
    "    \"/kaggle/input/project3/new_dataset/train/images\", \n",
    "    \"/kaggle/input/project3/new_dataset/train/masks\", \n",
    "    transform, \n",
    "    target_size=(256, 256)\n",
    ")\n",
    "valid_dataset = BirdSoundDataset(\n",
    "    \"/kaggle/input/project3/new_dataset/valid/images\", \n",
    "    \"/kaggle/input/project3/new_dataset/valid/masks\", \n",
    "    transform, \n",
    "    target_size=(256, 256)\n",
    ")\n",
    "\n",
    "train_loader = DataLoader(train_dataset, batch_size=16, shuffle=True)\n",
    "valid_loader = DataLoader(valid_dataset, batch_size=16, shuffle=False)\n",
    "\n",
    "print(\"Train Loader:\")\n",
    "for images, masks in train_loader:\n",
    "    print(f\"Images batch shape: {images.shape}, Masks batch shape: {masks.shape}\")\n",
    "    break\n",
    "\n",
    "print(\"\\nValidation Loader:\")\n",
    "for images, masks in valid_loader:\n",
    "    print(f\"Images batch shape: {images.shape}, Masks batch shape: {masks.shape}\")\n",
    "    break\n"
   ]
  },
  {
   "cell_type": "code",
   "execution_count": 2,
   "id": "05448c1d",
   "metadata": {
    "execution": {
     "iopub.execute_input": "2024-12-13T23:37:34.087628Z",
     "iopub.status.busy": "2024-12-13T23:37:34.086570Z",
     "iopub.status.idle": "2024-12-13T23:37:34.114010Z",
     "shell.execute_reply": "2024-12-13T23:37:34.113117Z"
    },
    "papermill": {
     "duration": 0.034244,
     "end_time": "2024-12-13T23:37:34.116461",
     "exception": false,
     "start_time": "2024-12-13T23:37:34.082217",
     "status": "completed"
    },
    "tags": []
   },
   "outputs": [],
   "source": [
    "import torch\n",
    "import os\n",
    "\n",
    "torch.cuda.empty_cache()\n",
    "torch.cuda.ipc_collect()\n",
    "\n",
    "os.environ['PYTORCH_CUDA_ALLOC_CONF'] = 'expandable_segments:True'"
   ]
  },
  {
   "cell_type": "code",
   "execution_count": 1,
   "id": "7647346c",
   "metadata": {
    "execution": {
     "iopub.execute_input": "2024-12-13T23:37:34.124808Z",
     "iopub.status.busy": "2024-12-13T23:37:34.123644Z",
     "iopub.status.idle": "2024-12-13T23:37:39.668518Z",
     "shell.execute_reply": "2024-12-13T23:37:39.667470Z"
    },
    "papermill": {
     "duration": 5.551479,
     "end_time": "2024-12-13T23:37:39.670605",
     "exception": false,
     "start_time": "2024-12-13T23:37:34.119126",
     "status": "completed"
    },
    "tags": []
   },
   "outputs": [
    {
     "data": {
      "text/plain": [
       "torch.Size([16, 1, 256, 256])"
      ]
     },
     "execution_count": 1,
     "metadata": {},
     "output_type": "execute_result"
    }
   ],
   "source": [
    "import torch\n",
    "import torch.nn as nn\n",
    "import torch.nn.functional as F\n",
    "\n",
    "class AtrousConvBlock(nn.Module):\n",
    "    def __init__(self, in_channels, out_channels, dilation):\n",
    "        super(AtrousConvBlock, self).__init__()\n",
    "        self.conv = nn.Conv2d(\n",
    "            in_channels, out_channels, kernel_size=3, padding=dilation, dilation=dilation\n",
    "        )\n",
    "        self.bn = nn.BatchNorm2d(out_channels)\n",
    "        self.relu = nn.ReLU(inplace=True)\n",
    "\n",
    "\n",
    "    def forward(self, x):\n",
    "        x = self.conv(x)\n",
    "        x = self.bn(x)\n",
    "        x = self.relu(x)\n",
    "        return x\n",
    "\n",
    "\n",
    "class Encoder(nn.Module):\n",
    "    def __init__(self, in_channels, base_channels=64):\n",
    "        super(Encoder, self).__init__()\n",
    "        self.enc1 = AtrousConvBlock(in_channels, base_channels, dilation=1)\n",
    "        self.enc2 = AtrousConvBlock(base_channels, base_channels * 2, dilation=2)\n",
    "        self.enc3 = AtrousConvBlock(base_channels * 2, base_channels * 4, dilation=4)\n",
    "        self.pool = nn.MaxPool2d(kernel_size=2, stride=2)\n",
    "\n",
    "    def forward(self, x):\n",
    "        x1 = self.enc1(x)\n",
    "        x2 = self.enc2(self.pool(x1))\n",
    "        x3 = self.enc3(self.pool(x2))\n",
    "        return x1, x2, x3\n",
    "\n",
    "\n",
    "class Decoder(nn.Module):\n",
    "    def __init__(self, base_channels=64):\n",
    "        super(Decoder, self).__init__()\n",
    "        self.up1 = nn.ConvTranspose2d(base_channels * 4, base_channels * 2, kernel_size=2, stride=2)\n",
    "        self.dec1 = AtrousConvBlock(base_channels * 2, base_channels * 2, dilation=1)\n",
    "\n",
    "        self.up2 = nn.ConvTranspose2d(base_channels * 2, base_channels, kernel_size=2, stride=2)\n",
    "        self.dec2 = AtrousConvBlock(base_channels, base_channels, dilation=1)\n",
    "\n",
    "        self.final = nn.Conv2d(base_channels, 1, kernel_size=1)\n",
    "\n",
    "    def forward(self, x1, x2, x3):\n",
    "        d1 = self.up1(x3) + x2\n",
    "        d1 = self.dec1(d1)\n",
    "        d2 = self.up2(d1) + x1\n",
    "        d2 = self.dec2(d2)\n",
    "        out = self.final(d2)\n",
    "        return out\n",
    "\n",
    "\n",
    "class AtrousSegNet(nn.Module):\n",
    "    def __init__(self, in_channels=3, base_channels=64):\n",
    "        super(AtrousSegNet, self).__init__()\n",
    "        self.encoder = Encoder(in_channels, base_channels)\n",
    "        self.decoder = Decoder(base_channels)\n",
    "\n",
    "    def forward(self, x):\n",
    "        x1, x2, x3 = self.encoder(x)\n",
    "        out = self.decoder(x1, x2, x3)\n",
    "        return out\n",
    "\n",
    "model = AtrousSegNet(in_channels=3, base_channels=64)\n",
    "\n",
    "dummy_input = torch.randn(16, 3, 256, 256)\n",
    "\n",
    "output = model(dummy_input)\n",
    "\n",
    "output_shape = output.shape\n",
    "output_shape"
   ]
  },
  {
   "cell_type": "markdown",
   "id": "ab84e344",
   "metadata": {},
   "source": [
    "# 2. Train your model using [Bird sound datasets](https://yuad-my.sharepoint.com/personal/youshan_zhang_yu_edu/_layouts/15/onedrive.aspx?id=%2Fpersonal%2Fyoushan%5Fzhang%5Fyu%5Fedu%2FDocuments%2FBird%5FSound%5FDataset&ga=1)"
   ]
  },
  {
   "cell_type": "code",
   "execution_count": 4,
   "id": "6cc7e52d",
   "metadata": {
    "execution": {
     "iopub.execute_input": "2024-12-13T23:37:39.677493Z",
     "iopub.status.busy": "2024-12-13T23:37:39.677157Z",
     "iopub.status.idle": "2024-12-14T04:38:03.145298Z",
     "shell.execute_reply": "2024-12-14T04:38:03.144230Z"
    },
    "papermill": {
     "duration": 18023.473927,
     "end_time": "2024-12-14T04:38:03.147323",
     "exception": false,
     "start_time": "2024-12-13T23:37:39.673396",
     "status": "completed"
    },
    "tags": []
   },
   "outputs": [
    {
     "name": "stderr",
     "output_type": "stream",
     "text": [
      "Training Epoch 1/128: 100%|██████████| 63/63 [02:11<00:00,  2.08s/it]\n",
      "Validation Epoch 1/128: 100%|██████████| 13/13 [00:32<00:00,  2.46s/it]\n"
     ]
    },
    {
     "name": "stdout",
     "output_type": "stream",
     "text": [
      "Epoch 1/128: Train Loss: 0.5213, Val Loss: 0.3660, Val IoU: 0.5026\n"
     ]
    },
    {
     "name": "stderr",
     "output_type": "stream",
     "text": [
      "Training Epoch 2/128: 100%|██████████| 63/63 [01:53<00:00,  1.81s/it]\n",
      "Validation Epoch 2/128: 100%|██████████| 13/13 [00:29<00:00,  2.23s/it]\n"
     ]
    },
    {
     "name": "stdout",
     "output_type": "stream",
     "text": [
      "Epoch 2/128: Train Loss: 0.3727, Val Loss: 0.3285, Val IoU: 0.5346\n"
     ]
    },
    {
     "name": "stderr",
     "output_type": "stream",
     "text": [
      "Training Epoch 3/128: 100%|██████████| 63/63 [01:54<00:00,  1.81s/it]\n",
      "Validation Epoch 3/128: 100%|██████████| 13/13 [00:29<00:00,  2.24s/it]\n"
     ]
    },
    {
     "name": "stdout",
     "output_type": "stream",
     "text": [
      "Epoch 3/128: Train Loss: 0.3197, Val Loss: 0.2884, Val IoU: 0.5507\n"
     ]
    },
    {
     "name": "stderr",
     "output_type": "stream",
     "text": [
      "Training Epoch 4/128: 100%|██████████| 63/63 [01:53<00:00,  1.81s/it]\n",
      "Validation Epoch 4/128: 100%|██████████| 13/13 [00:28<00:00,  2.18s/it]\n"
     ]
    },
    {
     "name": "stdout",
     "output_type": "stream",
     "text": [
      "Epoch 4/128: Train Loss: 0.2855, Val Loss: 0.2727, Val IoU: 0.5773\n"
     ]
    },
    {
     "name": "stderr",
     "output_type": "stream",
     "text": [
      "Training Epoch 5/128: 100%|██████████| 63/63 [01:53<00:00,  1.80s/it]\n",
      "Validation Epoch 5/128: 100%|██████████| 13/13 [00:27<00:00,  2.15s/it]\n"
     ]
    },
    {
     "name": "stdout",
     "output_type": "stream",
     "text": [
      "Epoch 5/128: Train Loss: 0.2584, Val Loss: 0.2408, Val IoU: 0.5868\n"
     ]
    },
    {
     "name": "stderr",
     "output_type": "stream",
     "text": [
      "Training Epoch 6/128: 100%|██████████| 63/63 [01:51<00:00,  1.77s/it]\n",
      "Validation Epoch 6/128: 100%|██████████| 13/13 [00:28<00:00,  2.17s/it]\n"
     ]
    },
    {
     "name": "stdout",
     "output_type": "stream",
     "text": [
      "Epoch 6/128: Train Loss: 0.2361, Val Loss: 0.2149, Val IoU: 0.6076\n"
     ]
    },
    {
     "name": "stderr",
     "output_type": "stream",
     "text": [
      "Training Epoch 7/128: 100%|██████████| 63/63 [01:52<00:00,  1.78s/it]\n",
      "Validation Epoch 7/128: 100%|██████████| 13/13 [00:27<00:00,  2.13s/it]\n"
     ]
    },
    {
     "name": "stdout",
     "output_type": "stream",
     "text": [
      "Epoch 7/128: Train Loss: 0.2189, Val Loss: 0.2060, Val IoU: 0.5946\n"
     ]
    },
    {
     "name": "stderr",
     "output_type": "stream",
     "text": [
      "Training Epoch 8/128: 100%|██████████| 63/63 [01:48<00:00,  1.72s/it]\n",
      "Validation Epoch 8/128: 100%|██████████| 13/13 [00:27<00:00,  2.10s/it]\n"
     ]
    },
    {
     "name": "stdout",
     "output_type": "stream",
     "text": [
      "Epoch 8/128: Train Loss: 0.2029, Val Loss: 0.1872, Val IoU: 0.6165\n"
     ]
    },
    {
     "name": "stderr",
     "output_type": "stream",
     "text": [
      "Training Epoch 9/128: 100%|██████████| 63/63 [01:46<00:00,  1.70s/it]\n",
      "Validation Epoch 9/128: 100%|██████████| 13/13 [00:27<00:00,  2.14s/it]\n"
     ]
    },
    {
     "name": "stdout",
     "output_type": "stream",
     "text": [
      "Epoch 9/128: Train Loss: 0.1873, Val Loss: 0.1735, Val IoU: 0.6001\n"
     ]
    },
    {
     "name": "stderr",
     "output_type": "stream",
     "text": [
      "Training Epoch 10/128: 100%|██████████| 63/63 [01:47<00:00,  1.71s/it]\n",
      "Validation Epoch 10/128: 100%|██████████| 13/13 [00:27<00:00,  2.09s/it]\n"
     ]
    },
    {
     "name": "stdout",
     "output_type": "stream",
     "text": [
      "Epoch 10/128: Train Loss: 0.1761, Val Loss: 0.1795, Val IoU: 0.6096\n"
     ]
    },
    {
     "name": "stderr",
     "output_type": "stream",
     "text": [
      "Training Epoch 11/128: 100%|██████████| 63/63 [01:45<00:00,  1.67s/it]\n",
      "Validation Epoch 11/128: 100%|██████████| 13/13 [00:27<00:00,  2.11s/it]\n"
     ]
    },
    {
     "name": "stdout",
     "output_type": "stream",
     "text": [
      "Epoch 11/128: Train Loss: 0.1651, Val Loss: 0.1565, Val IoU: 0.6264\n"
     ]
    },
    {
     "name": "stderr",
     "output_type": "stream",
     "text": [
      "Training Epoch 12/128: 100%|██████████| 63/63 [01:49<00:00,  1.74s/it]\n",
      "Validation Epoch 12/128: 100%|██████████| 13/13 [00:27<00:00,  2.14s/it]\n"
     ]
    },
    {
     "name": "stdout",
     "output_type": "stream",
     "text": [
      "Epoch 12/128: Train Loss: 0.1558, Val Loss: 0.1403, Val IoU: 0.6236\n"
     ]
    },
    {
     "name": "stderr",
     "output_type": "stream",
     "text": [
      "Training Epoch 13/128: 100%|██████████| 63/63 [01:53<00:00,  1.79s/it]\n",
      "Validation Epoch 13/128: 100%|██████████| 13/13 [00:28<00:00,  2.22s/it]\n"
     ]
    },
    {
     "name": "stdout",
     "output_type": "stream",
     "text": [
      "Epoch 13/128: Train Loss: 0.1467, Val Loss: 0.1340, Val IoU: 0.6254\n"
     ]
    },
    {
     "name": "stderr",
     "output_type": "stream",
     "text": [
      "Training Epoch 14/128: 100%|██████████| 63/63 [01:55<00:00,  1.84s/it]\n",
      "Validation Epoch 14/128: 100%|██████████| 13/13 [00:29<00:00,  2.30s/it]\n"
     ]
    },
    {
     "name": "stdout",
     "output_type": "stream",
     "text": [
      "Epoch 14/128: Train Loss: 0.1386, Val Loss: 0.1214, Val IoU: 0.6173\n"
     ]
    },
    {
     "name": "stderr",
     "output_type": "stream",
     "text": [
      "Training Epoch 15/128: 100%|██████████| 63/63 [01:56<00:00,  1.85s/it]\n",
      "Validation Epoch 15/128: 100%|██████████| 13/13 [00:30<00:00,  2.33s/it]\n"
     ]
    },
    {
     "name": "stdout",
     "output_type": "stream",
     "text": [
      "Epoch 15/128: Train Loss: 0.1334, Val Loss: 0.1220, Val IoU: 0.6289\n"
     ]
    },
    {
     "name": "stderr",
     "output_type": "stream",
     "text": [
      "Training Epoch 16/128: 100%|██████████| 63/63 [01:57<00:00,  1.86s/it]\n",
      "Validation Epoch 16/128: 100%|██████████| 13/13 [00:29<00:00,  2.29s/it]\n"
     ]
    },
    {
     "name": "stdout",
     "output_type": "stream",
     "text": [
      "Epoch 16/128: Train Loss: 0.1263, Val Loss: 0.1155, Val IoU: 0.6388\n"
     ]
    },
    {
     "name": "stderr",
     "output_type": "stream",
     "text": [
      "Training Epoch 17/128: 100%|██████████| 63/63 [01:57<00:00,  1.87s/it]\n",
      "Validation Epoch 17/128: 100%|██████████| 13/13 [00:29<00:00,  2.26s/it]\n"
     ]
    },
    {
     "name": "stdout",
     "output_type": "stream",
     "text": [
      "Epoch 17/128: Train Loss: 0.1219, Val Loss: 0.1071, Val IoU: 0.6369\n"
     ]
    },
    {
     "name": "stderr",
     "output_type": "stream",
     "text": [
      "Training Epoch 18/128: 100%|██████████| 63/63 [01:55<00:00,  1.83s/it]\n",
      "Validation Epoch 18/128: 100%|██████████| 13/13 [00:28<00:00,  2.20s/it]\n"
     ]
    },
    {
     "name": "stdout",
     "output_type": "stream",
     "text": [
      "Epoch 18/128: Train Loss: 0.1168, Val Loss: 0.1129, Val IoU: 0.6255\n"
     ]
    },
    {
     "name": "stderr",
     "output_type": "stream",
     "text": [
      "Training Epoch 19/128: 100%|██████████| 63/63 [01:51<00:00,  1.76s/it]\n",
      "Validation Epoch 19/128: 100%|██████████| 13/13 [00:28<00:00,  2.18s/it]\n"
     ]
    },
    {
     "name": "stdout",
     "output_type": "stream",
     "text": [
      "Epoch 19/128: Train Loss: 0.1136, Val Loss: 0.0972, Val IoU: 0.6360\n"
     ]
    },
    {
     "name": "stderr",
     "output_type": "stream",
     "text": [
      "Training Epoch 20/128: 100%|██████████| 63/63 [01:51<00:00,  1.77s/it]\n",
      "Validation Epoch 20/128: 100%|██████████| 13/13 [00:27<00:00,  2.12s/it]\n"
     ]
    },
    {
     "name": "stdout",
     "output_type": "stream",
     "text": [
      "Epoch 20/128: Train Loss: 0.1096, Val Loss: 0.0992, Val IoU: 0.6360\n"
     ]
    },
    {
     "name": "stderr",
     "output_type": "stream",
     "text": [
      "Training Epoch 21/128: 100%|██████████| 63/63 [01:51<00:00,  1.76s/it]\n",
      "Validation Epoch 21/128: 100%|██████████| 13/13 [00:28<00:00,  2.18s/it]\n"
     ]
    },
    {
     "name": "stdout",
     "output_type": "stream",
     "text": [
      "Epoch 21/128: Train Loss: 0.1071, Val Loss: 0.1014, Val IoU: 0.6398\n"
     ]
    },
    {
     "name": "stderr",
     "output_type": "stream",
     "text": [
      "Training Epoch 22/128: 100%|██████████| 63/63 [01:49<00:00,  1.74s/it]\n",
      "Validation Epoch 22/128: 100%|██████████| 13/13 [00:27<00:00,  2.15s/it]\n"
     ]
    },
    {
     "name": "stdout",
     "output_type": "stream",
     "text": [
      "Epoch 22/128: Train Loss: 0.1034, Val Loss: 0.0943, Val IoU: 0.6320\n"
     ]
    },
    {
     "name": "stderr",
     "output_type": "stream",
     "text": [
      "Training Epoch 23/128: 100%|██████████| 63/63 [01:49<00:00,  1.74s/it]\n",
      "Validation Epoch 23/128: 100%|██████████| 13/13 [00:27<00:00,  2.14s/it]\n"
     ]
    },
    {
     "name": "stdout",
     "output_type": "stream",
     "text": [
      "Epoch 23/128: Train Loss: 0.1008, Val Loss: 0.1001, Val IoU: 0.6175\n"
     ]
    },
    {
     "name": "stderr",
     "output_type": "stream",
     "text": [
      "Training Epoch 24/128: 100%|██████████| 63/63 [01:49<00:00,  1.74s/it]\n",
      "Validation Epoch 24/128: 100%|██████████| 13/13 [00:29<00:00,  2.24s/it]\n"
     ]
    },
    {
     "name": "stdout",
     "output_type": "stream",
     "text": [
      "Epoch 24/128: Train Loss: 0.0988, Val Loss: 0.0916, Val IoU: 0.6317\n"
     ]
    },
    {
     "name": "stderr",
     "output_type": "stream",
     "text": [
      "Training Epoch 25/128: 100%|██████████| 63/63 [01:55<00:00,  1.84s/it]\n",
      "Validation Epoch 25/128: 100%|██████████| 13/13 [00:29<00:00,  2.25s/it]\n"
     ]
    },
    {
     "name": "stdout",
     "output_type": "stream",
     "text": [
      "Epoch 25/128: Train Loss: 0.0958, Val Loss: 0.0877, Val IoU: 0.6382\n"
     ]
    },
    {
     "name": "stderr",
     "output_type": "stream",
     "text": [
      "Training Epoch 26/128: 100%|██████████| 63/63 [01:55<00:00,  1.83s/it]\n",
      "Validation Epoch 26/128: 100%|██████████| 13/13 [00:29<00:00,  2.26s/it]\n"
     ]
    },
    {
     "name": "stdout",
     "output_type": "stream",
     "text": [
      "Epoch 26/128: Train Loss: 0.0965, Val Loss: 0.0839, Val IoU: 0.6381\n"
     ]
    },
    {
     "name": "stderr",
     "output_type": "stream",
     "text": [
      "Training Epoch 27/128: 100%|██████████| 63/63 [01:52<00:00,  1.79s/it]\n",
      "Validation Epoch 27/128: 100%|██████████| 13/13 [00:30<00:00,  2.31s/it]\n"
     ]
    },
    {
     "name": "stdout",
     "output_type": "stream",
     "text": [
      "Epoch 27/128: Train Loss: 0.0916, Val Loss: 0.0855, Val IoU: 0.6056\n"
     ]
    },
    {
     "name": "stderr",
     "output_type": "stream",
     "text": [
      "Training Epoch 28/128: 100%|██████████| 63/63 [01:56<00:00,  1.85s/it]\n",
      "Validation Epoch 28/128: 100%|██████████| 13/13 [00:29<00:00,  2.30s/it]\n"
     ]
    },
    {
     "name": "stdout",
     "output_type": "stream",
     "text": [
      "Epoch 28/128: Train Loss: 0.0900, Val Loss: 0.0918, Val IoU: 0.6487\n"
     ]
    },
    {
     "name": "stderr",
     "output_type": "stream",
     "text": [
      "Training Epoch 29/128: 100%|██████████| 63/63 [01:55<00:00,  1.83s/it]\n",
      "Validation Epoch 29/128: 100%|██████████| 13/13 [00:30<00:00,  2.34s/it]\n"
     ]
    },
    {
     "name": "stdout",
     "output_type": "stream",
     "text": [
      "Epoch 29/128: Train Loss: 0.0882, Val Loss: 0.0832, Val IoU: 0.6420\n"
     ]
    },
    {
     "name": "stderr",
     "output_type": "stream",
     "text": [
      "Training Epoch 30/128: 100%|██████████| 63/63 [01:56<00:00,  1.85s/it]\n",
      "Validation Epoch 30/128: 100%|██████████| 13/13 [00:29<00:00,  2.26s/it]\n"
     ]
    },
    {
     "name": "stdout",
     "output_type": "stream",
     "text": [
      "Epoch 30/128: Train Loss: 0.0861, Val Loss: 0.0797, Val IoU: 0.6537\n"
     ]
    },
    {
     "name": "stderr",
     "output_type": "stream",
     "text": [
      "Training Epoch 31/128: 100%|██████████| 63/63 [01:56<00:00,  1.84s/it]\n",
      "Validation Epoch 31/128: 100%|██████████| 13/13 [00:30<00:00,  2.34s/it]\n"
     ]
    },
    {
     "name": "stdout",
     "output_type": "stream",
     "text": [
      "Epoch 31/128: Train Loss: 0.0867, Val Loss: 0.0844, Val IoU: 0.5804\n"
     ]
    },
    {
     "name": "stderr",
     "output_type": "stream",
     "text": [
      "Training Epoch 32/128: 100%|██████████| 63/63 [01:53<00:00,  1.80s/it]\n",
      "Validation Epoch 32/128: 100%|██████████| 13/13 [00:28<00:00,  2.21s/it]\n"
     ]
    },
    {
     "name": "stdout",
     "output_type": "stream",
     "text": [
      "Epoch 32/128: Train Loss: 0.0845, Val Loss: 0.0784, Val IoU: 0.5961\n"
     ]
    },
    {
     "name": "stderr",
     "output_type": "stream",
     "text": [
      "Training Epoch 33/128: 100%|██████████| 63/63 [01:52<00:00,  1.79s/it]\n",
      "Validation Epoch 33/128: 100%|██████████| 13/13 [00:28<00:00,  2.22s/it]\n"
     ]
    },
    {
     "name": "stdout",
     "output_type": "stream",
     "text": [
      "Epoch 33/128: Train Loss: 0.0847, Val Loss: 0.0825, Val IoU: 0.6494\n"
     ]
    },
    {
     "name": "stderr",
     "output_type": "stream",
     "text": [
      "Training Epoch 34/128: 100%|██████████| 63/63 [01:53<00:00,  1.79s/it]\n",
      "Validation Epoch 34/128: 100%|██████████| 13/13 [00:28<00:00,  2.22s/it]\n"
     ]
    },
    {
     "name": "stdout",
     "output_type": "stream",
     "text": [
      "Epoch 34/128: Train Loss: 0.0816, Val Loss: 0.0827, Val IoU: 0.6534\n"
     ]
    },
    {
     "name": "stderr",
     "output_type": "stream",
     "text": [
      "Training Epoch 35/128: 100%|██████████| 63/63 [01:52<00:00,  1.79s/it]\n",
      "Validation Epoch 35/128: 100%|██████████| 13/13 [00:28<00:00,  2.21s/it]\n"
     ]
    },
    {
     "name": "stdout",
     "output_type": "stream",
     "text": [
      "Epoch 35/128: Train Loss: 0.0811, Val Loss: 0.0784, Val IoU: 0.6415\n"
     ]
    },
    {
     "name": "stderr",
     "output_type": "stream",
     "text": [
      "Training Epoch 36/128: 100%|██████████| 63/63 [01:51<00:00,  1.77s/it]\n",
      "Validation Epoch 36/128: 100%|██████████| 13/13 [00:27<00:00,  2.10s/it]\n"
     ]
    },
    {
     "name": "stdout",
     "output_type": "stream",
     "text": [
      "Epoch 36/128: Train Loss: 0.0820, Val Loss: 0.0760, Val IoU: 0.6263\n"
     ]
    },
    {
     "name": "stderr",
     "output_type": "stream",
     "text": [
      "Training Epoch 37/128: 100%|██████████| 63/63 [01:53<00:00,  1.80s/it]\n",
      "Validation Epoch 37/128: 100%|██████████| 13/13 [00:28<00:00,  2.22s/it]\n"
     ]
    },
    {
     "name": "stdout",
     "output_type": "stream",
     "text": [
      "Epoch 37/128: Train Loss: 0.0783, Val Loss: 0.0774, Val IoU: 0.6539\n"
     ]
    },
    {
     "name": "stderr",
     "output_type": "stream",
     "text": [
      "Training Epoch 38/128: 100%|██████████| 63/63 [01:52<00:00,  1.79s/it]\n",
      "Validation Epoch 38/128: 100%|██████████| 13/13 [00:28<00:00,  2.21s/it]\n"
     ]
    },
    {
     "name": "stdout",
     "output_type": "stream",
     "text": [
      "Epoch 38/128: Train Loss: 0.0775, Val Loss: 0.0838, Val IoU: 0.6099\n"
     ]
    },
    {
     "name": "stderr",
     "output_type": "stream",
     "text": [
      "Training Epoch 39/128: 100%|██████████| 63/63 [01:51<00:00,  1.76s/it]\n",
      "Validation Epoch 39/128: 100%|██████████| 13/13 [00:28<00:00,  2.18s/it]\n"
     ]
    },
    {
     "name": "stdout",
     "output_type": "stream",
     "text": [
      "Epoch 39/128: Train Loss: 0.0778, Val Loss: 0.0743, Val IoU: 0.6499\n"
     ]
    },
    {
     "name": "stderr",
     "output_type": "stream",
     "text": [
      "Training Epoch 40/128: 100%|██████████| 63/63 [01:51<00:00,  1.77s/it]\n",
      "Validation Epoch 40/128: 100%|██████████| 13/13 [00:27<00:00,  2.13s/it]\n"
     ]
    },
    {
     "name": "stdout",
     "output_type": "stream",
     "text": [
      "Epoch 40/128: Train Loss: 0.0769, Val Loss: 0.0783, Val IoU: 0.6315\n"
     ]
    },
    {
     "name": "stderr",
     "output_type": "stream",
     "text": [
      "Training Epoch 41/128: 100%|██████████| 63/63 [01:50<00:00,  1.76s/it]\n",
      "Validation Epoch 41/128: 100%|██████████| 13/13 [00:27<00:00,  2.14s/it]\n"
     ]
    },
    {
     "name": "stdout",
     "output_type": "stream",
     "text": [
      "Epoch 41/128: Train Loss: 0.0769, Val Loss: 0.0748, Val IoU: 0.6556\n"
     ]
    },
    {
     "name": "stderr",
     "output_type": "stream",
     "text": [
      "Training Epoch 42/128: 100%|██████████| 63/63 [01:51<00:00,  1.76s/it]\n",
      "Validation Epoch 42/128: 100%|██████████| 13/13 [00:27<00:00,  2.12s/it]\n"
     ]
    },
    {
     "name": "stdout",
     "output_type": "stream",
     "text": [
      "Epoch 42/128: Train Loss: 0.0742, Val Loss: 0.0770, Val IoU: 0.6102\n"
     ]
    },
    {
     "name": "stderr",
     "output_type": "stream",
     "text": [
      "Training Epoch 43/128: 100%|██████████| 63/63 [01:51<00:00,  1.76s/it]\n",
      "Validation Epoch 43/128: 100%|██████████| 13/13 [00:27<00:00,  2.13s/it]\n"
     ]
    },
    {
     "name": "stdout",
     "output_type": "stream",
     "text": [
      "Epoch 43/128: Train Loss: 0.0746, Val Loss: 0.0710, Val IoU: 0.6571\n"
     ]
    },
    {
     "name": "stderr",
     "output_type": "stream",
     "text": [
      "Training Epoch 44/128: 100%|██████████| 63/63 [01:50<00:00,  1.76s/it]\n",
      "Validation Epoch 44/128: 100%|██████████| 13/13 [00:27<00:00,  2.15s/it]\n"
     ]
    },
    {
     "name": "stdout",
     "output_type": "stream",
     "text": [
      "Epoch 44/128: Train Loss: 0.0739, Val Loss: 0.0723, Val IoU: 0.6338\n"
     ]
    },
    {
     "name": "stderr",
     "output_type": "stream",
     "text": [
      "Training Epoch 45/128: 100%|██████████| 63/63 [01:56<00:00,  1.84s/it]\n",
      "Validation Epoch 45/128: 100%|██████████| 13/13 [00:30<00:00,  2.32s/it]\n"
     ]
    },
    {
     "name": "stdout",
     "output_type": "stream",
     "text": [
      "Epoch 45/128: Train Loss: 0.0733, Val Loss: 0.0740, Val IoU: 0.6521\n"
     ]
    },
    {
     "name": "stderr",
     "output_type": "stream",
     "text": [
      "Training Epoch 46/128: 100%|██████████| 63/63 [01:58<00:00,  1.87s/it]\n",
      "Validation Epoch 46/128: 100%|██████████| 13/13 [00:29<00:00,  2.27s/it]\n"
     ]
    },
    {
     "name": "stdout",
     "output_type": "stream",
     "text": [
      "Epoch 46/128: Train Loss: 0.0725, Val Loss: 0.0725, Val IoU: 0.6567\n"
     ]
    },
    {
     "name": "stderr",
     "output_type": "stream",
     "text": [
      "Training Epoch 47/128: 100%|██████████| 63/63 [01:54<00:00,  1.82s/it]\n",
      "Validation Epoch 47/128: 100%|██████████| 13/13 [00:29<00:00,  2.29s/it]\n"
     ]
    },
    {
     "name": "stdout",
     "output_type": "stream",
     "text": [
      "Epoch 47/128: Train Loss: 0.0728, Val Loss: 0.0747, Val IoU: 0.6150\n"
     ]
    },
    {
     "name": "stderr",
     "output_type": "stream",
     "text": [
      "Training Epoch 48/128: 100%|██████████| 63/63 [01:55<00:00,  1.83s/it]\n",
      "Validation Epoch 48/128: 100%|██████████| 13/13 [00:29<00:00,  2.27s/it]\n"
     ]
    },
    {
     "name": "stdout",
     "output_type": "stream",
     "text": [
      "Epoch 48/128: Train Loss: 0.0724, Val Loss: 0.0713, Val IoU: 0.6441\n"
     ]
    },
    {
     "name": "stderr",
     "output_type": "stream",
     "text": [
      "Training Epoch 49/128: 100%|██████████| 63/63 [01:55<00:00,  1.83s/it]\n",
      "Validation Epoch 49/128: 100%|██████████| 13/13 [00:29<00:00,  2.29s/it]\n"
     ]
    },
    {
     "name": "stdout",
     "output_type": "stream",
     "text": [
      "Epoch 49/128: Train Loss: 0.0710, Val Loss: 0.0744, Val IoU: 0.6523\n"
     ]
    },
    {
     "name": "stderr",
     "output_type": "stream",
     "text": [
      "Training Epoch 50/128: 100%|██████████| 63/63 [01:55<00:00,  1.84s/it]\n",
      "Validation Epoch 50/128: 100%|██████████| 13/13 [00:29<00:00,  2.27s/it]\n"
     ]
    },
    {
     "name": "stdout",
     "output_type": "stream",
     "text": [
      "Epoch 50/128: Train Loss: 0.0712, Val Loss: 0.0717, Val IoU: 0.6434\n"
     ]
    },
    {
     "name": "stderr",
     "output_type": "stream",
     "text": [
      "Training Epoch 51/128: 100%|██████████| 63/63 [01:56<00:00,  1.85s/it]\n",
      "Validation Epoch 51/128: 100%|██████████| 13/13 [00:29<00:00,  2.30s/it]\n"
     ]
    },
    {
     "name": "stdout",
     "output_type": "stream",
     "text": [
      "Epoch 51/128: Train Loss: 0.0702, Val Loss: 0.0728, Val IoU: 0.6316\n"
     ]
    },
    {
     "name": "stderr",
     "output_type": "stream",
     "text": [
      "Training Epoch 52/128: 100%|██████████| 63/63 [01:55<00:00,  1.84s/it]\n",
      "Validation Epoch 52/128: 100%|██████████| 13/13 [00:29<00:00,  2.28s/it]\n"
     ]
    },
    {
     "name": "stdout",
     "output_type": "stream",
     "text": [
      "Epoch 52/128: Train Loss: 0.0703, Val Loss: 0.0724, Val IoU: 0.6447\n"
     ]
    },
    {
     "name": "stderr",
     "output_type": "stream",
     "text": [
      "Training Epoch 53/128: 100%|██████████| 63/63 [01:56<00:00,  1.85s/it]\n",
      "Validation Epoch 53/128: 100%|██████████| 13/13 [00:29<00:00,  2.27s/it]\n"
     ]
    },
    {
     "name": "stdout",
     "output_type": "stream",
     "text": [
      "Epoch 53/128: Train Loss: 0.0699, Val Loss: 0.0725, Val IoU: 0.6310\n"
     ]
    },
    {
     "name": "stderr",
     "output_type": "stream",
     "text": [
      "Training Epoch 54/128: 100%|██████████| 63/63 [01:56<00:00,  1.86s/it]\n",
      "Validation Epoch 54/128: 100%|██████████| 13/13 [00:29<00:00,  2.26s/it]\n"
     ]
    },
    {
     "name": "stdout",
     "output_type": "stream",
     "text": [
      "Epoch 54/128: Train Loss: 0.0688, Val Loss: 0.0697, Val IoU: 0.6518\n"
     ]
    },
    {
     "name": "stderr",
     "output_type": "stream",
     "text": [
      "Training Epoch 55/128: 100%|██████████| 63/63 [01:56<00:00,  1.85s/it]\n",
      "Validation Epoch 55/128: 100%|██████████| 13/13 [00:29<00:00,  2.28s/it]\n"
     ]
    },
    {
     "name": "stdout",
     "output_type": "stream",
     "text": [
      "Epoch 55/128: Train Loss: 0.0683, Val Loss: 0.0715, Val IoU: 0.6208\n"
     ]
    },
    {
     "name": "stderr",
     "output_type": "stream",
     "text": [
      "Training Epoch 56/128: 100%|██████████| 63/63 [01:57<00:00,  1.86s/it]\n",
      "Validation Epoch 56/128: 100%|██████████| 13/13 [00:29<00:00,  2.28s/it]\n"
     ]
    },
    {
     "name": "stdout",
     "output_type": "stream",
     "text": [
      "Epoch 56/128: Train Loss: 0.0686, Val Loss: 0.0702, Val IoU: 0.6414\n"
     ]
    },
    {
     "name": "stderr",
     "output_type": "stream",
     "text": [
      "Training Epoch 57/128: 100%|██████████| 63/63 [01:56<00:00,  1.85s/it]\n",
      "Validation Epoch 57/128: 100%|██████████| 13/13 [00:28<00:00,  2.20s/it]\n"
     ]
    },
    {
     "name": "stdout",
     "output_type": "stream",
     "text": [
      "Epoch 57/128: Train Loss: 0.0689, Val Loss: 0.0733, Val IoU: 0.6315\n"
     ]
    },
    {
     "name": "stderr",
     "output_type": "stream",
     "text": [
      "Training Epoch 58/128: 100%|██████████| 63/63 [01:47<00:00,  1.70s/it]\n",
      "Validation Epoch 58/128: 100%|██████████| 13/13 [00:26<00:00,  2.05s/it]\n"
     ]
    },
    {
     "name": "stdout",
     "output_type": "stream",
     "text": [
      "Epoch 58/128: Train Loss: 0.0670, Val Loss: 0.0706, Val IoU: 0.6342\n"
     ]
    },
    {
     "name": "stderr",
     "output_type": "stream",
     "text": [
      "Training Epoch 59/128: 100%|██████████| 63/63 [01:44<00:00,  1.66s/it]\n",
      "Validation Epoch 59/128: 100%|██████████| 13/13 [00:26<00:00,  2.01s/it]\n"
     ]
    },
    {
     "name": "stdout",
     "output_type": "stream",
     "text": [
      "Epoch 59/128: Train Loss: 0.0680, Val Loss: 0.0729, Val IoU: 0.6401\n"
     ]
    },
    {
     "name": "stderr",
     "output_type": "stream",
     "text": [
      "Training Epoch 60/128: 100%|██████████| 63/63 [01:47<00:00,  1.70s/it]\n",
      "Validation Epoch 60/128: 100%|██████████| 13/13 [00:26<00:00,  2.01s/it]\n"
     ]
    },
    {
     "name": "stdout",
     "output_type": "stream",
     "text": [
      "Epoch 60/128: Train Loss: 0.0677, Val Loss: 0.0687, Val IoU: 0.6527\n"
     ]
    },
    {
     "name": "stderr",
     "output_type": "stream",
     "text": [
      "Training Epoch 61/128: 100%|██████████| 63/63 [01:43<00:00,  1.65s/it]\n",
      "Validation Epoch 61/128: 100%|██████████| 13/13 [00:26<00:00,  2.03s/it]\n"
     ]
    },
    {
     "name": "stdout",
     "output_type": "stream",
     "text": [
      "Epoch 61/128: Train Loss: 0.0655, Val Loss: 0.0711, Val IoU: 0.6398\n"
     ]
    },
    {
     "name": "stderr",
     "output_type": "stream",
     "text": [
      "Training Epoch 62/128: 100%|██████████| 63/63 [01:45<00:00,  1.67s/it]\n",
      "Validation Epoch 62/128: 100%|██████████| 13/13 [00:26<00:00,  2.04s/it]\n"
     ]
    },
    {
     "name": "stdout",
     "output_type": "stream",
     "text": [
      "Epoch 62/128: Train Loss: 0.0652, Val Loss: 0.0746, Val IoU: 0.6508\n"
     ]
    },
    {
     "name": "stderr",
     "output_type": "stream",
     "text": [
      "Training Epoch 63/128: 100%|██████████| 63/63 [01:46<00:00,  1.69s/it]\n",
      "Validation Epoch 63/128: 100%|██████████| 13/13 [00:26<00:00,  2.03s/it]\n"
     ]
    },
    {
     "name": "stdout",
     "output_type": "stream",
     "text": [
      "Epoch 63/128: Train Loss: 0.0648, Val Loss: 0.0716, Val IoU: 0.6361\n"
     ]
    },
    {
     "name": "stderr",
     "output_type": "stream",
     "text": [
      "Training Epoch 64/128: 100%|██████████| 63/63 [01:44<00:00,  1.65s/it]\n",
      "Validation Epoch 64/128: 100%|██████████| 13/13 [00:26<00:00,  2.06s/it]\n"
     ]
    },
    {
     "name": "stdout",
     "output_type": "stream",
     "text": [
      "Epoch 64/128: Train Loss: 0.0654, Val Loss: 0.0724, Val IoU: 0.6308\n"
     ]
    },
    {
     "name": "stderr",
     "output_type": "stream",
     "text": [
      "Training Epoch 65/128: 100%|██████████| 63/63 [01:47<00:00,  1.71s/it]\n",
      "Validation Epoch 65/128: 100%|██████████| 13/13 [00:27<00:00,  2.13s/it]\n"
     ]
    },
    {
     "name": "stdout",
     "output_type": "stream",
     "text": [
      "Epoch 65/128: Train Loss: 0.0650, Val Loss: 0.0701, Val IoU: 0.6435\n"
     ]
    },
    {
     "name": "stderr",
     "output_type": "stream",
     "text": [
      "Training Epoch 66/128: 100%|██████████| 63/63 [01:47<00:00,  1.71s/it]\n",
      "Validation Epoch 66/128: 100%|██████████| 13/13 [00:27<00:00,  2.08s/it]\n"
     ]
    },
    {
     "name": "stdout",
     "output_type": "stream",
     "text": [
      "Epoch 66/128: Train Loss: 0.0661, Val Loss: 0.0777, Val IoU: 0.6359\n"
     ]
    },
    {
     "name": "stderr",
     "output_type": "stream",
     "text": [
      "Training Epoch 67/128: 100%|██████████| 63/63 [01:46<00:00,  1.68s/it]\n",
      "Validation Epoch 67/128: 100%|██████████| 13/13 [00:26<00:00,  2.07s/it]\n"
     ]
    },
    {
     "name": "stdout",
     "output_type": "stream",
     "text": [
      "Epoch 67/128: Train Loss: 0.0645, Val Loss: 0.0706, Val IoU: 0.6565\n"
     ]
    },
    {
     "name": "stderr",
     "output_type": "stream",
     "text": [
      "Training Epoch 68/128: 100%|██████████| 63/63 [01:46<00:00,  1.69s/it]\n",
      "Validation Epoch 68/128: 100%|██████████| 13/13 [00:27<00:00,  2.08s/it]\n"
     ]
    },
    {
     "name": "stdout",
     "output_type": "stream",
     "text": [
      "Epoch 68/128: Train Loss: 0.0640, Val Loss: 0.0693, Val IoU: 0.6598\n"
     ]
    },
    {
     "name": "stderr",
     "output_type": "stream",
     "text": [
      "Training Epoch 69/128: 100%|██████████| 63/63 [01:48<00:00,  1.72s/it]\n",
      "Validation Epoch 69/128: 100%|██████████| 13/13 [00:27<00:00,  2.09s/it]\n"
     ]
    },
    {
     "name": "stdout",
     "output_type": "stream",
     "text": [
      "Epoch 69/128: Train Loss: 0.0646, Val Loss: 0.0702, Val IoU: 0.6578\n"
     ]
    },
    {
     "name": "stderr",
     "output_type": "stream",
     "text": [
      "Training Epoch 70/128: 100%|██████████| 63/63 [01:45<00:00,  1.68s/it]\n",
      "Validation Epoch 70/128: 100%|██████████| 13/13 [00:26<00:00,  2.02s/it]\n"
     ]
    },
    {
     "name": "stdout",
     "output_type": "stream",
     "text": [
      "Epoch 70/128: Train Loss: 0.0627, Val Loss: 0.0710, Val IoU: 0.6466\n"
     ]
    },
    {
     "name": "stderr",
     "output_type": "stream",
     "text": [
      "Training Epoch 71/128: 100%|██████████| 63/63 [01:44<00:00,  1.66s/it]\n",
      "Validation Epoch 71/128: 100%|██████████| 13/13 [00:27<00:00,  2.08s/it]\n"
     ]
    },
    {
     "name": "stdout",
     "output_type": "stream",
     "text": [
      "Epoch 71/128: Train Loss: 0.0632, Val Loss: 0.0713, Val IoU: 0.6348\n"
     ]
    },
    {
     "name": "stderr",
     "output_type": "stream",
     "text": [
      "Training Epoch 72/128: 100%|██████████| 63/63 [01:46<00:00,  1.68s/it]\n",
      "Validation Epoch 72/128: 100%|██████████| 13/13 [00:26<00:00,  2.07s/it]\n"
     ]
    },
    {
     "name": "stdout",
     "output_type": "stream",
     "text": [
      "Epoch 72/128: Train Loss: 0.0630, Val Loss: 0.0707, Val IoU: 0.6296\n"
     ]
    },
    {
     "name": "stderr",
     "output_type": "stream",
     "text": [
      "Training Epoch 73/128: 100%|██████████| 63/63 [01:47<00:00,  1.71s/it]\n",
      "Validation Epoch 73/128: 100%|██████████| 13/13 [00:26<00:00,  2.06s/it]\n"
     ]
    },
    {
     "name": "stdout",
     "output_type": "stream",
     "text": [
      "Epoch 73/128: Train Loss: 0.0627, Val Loss: 0.0684, Val IoU: 0.6628\n"
     ]
    },
    {
     "name": "stderr",
     "output_type": "stream",
     "text": [
      "Training Epoch 74/128: 100%|██████████| 63/63 [01:48<00:00,  1.73s/it]\n",
      "Validation Epoch 74/128: 100%|██████████| 13/13 [00:26<00:00,  2.06s/it]\n"
     ]
    },
    {
     "name": "stdout",
     "output_type": "stream",
     "text": [
      "Epoch 74/128: Train Loss: 0.0615, Val Loss: 0.0697, Val IoU: 0.6478\n"
     ]
    },
    {
     "name": "stderr",
     "output_type": "stream",
     "text": [
      "Training Epoch 75/128: 100%|██████████| 63/63 [01:48<00:00,  1.72s/it]\n",
      "Validation Epoch 75/128: 100%|██████████| 13/13 [00:27<00:00,  2.09s/it]\n"
     ]
    },
    {
     "name": "stdout",
     "output_type": "stream",
     "text": [
      "Epoch 75/128: Train Loss: 0.0626, Val Loss: 0.0720, Val IoU: 0.6472\n"
     ]
    },
    {
     "name": "stderr",
     "output_type": "stream",
     "text": [
      "Training Epoch 76/128: 100%|██████████| 63/63 [01:48<00:00,  1.72s/it]\n",
      "Validation Epoch 76/128: 100%|██████████| 13/13 [00:27<00:00,  2.08s/it]\n"
     ]
    },
    {
     "name": "stdout",
     "output_type": "stream",
     "text": [
      "Epoch 76/128: Train Loss: 0.0631, Val Loss: 0.0737, Val IoU: 0.6559\n"
     ]
    },
    {
     "name": "stderr",
     "output_type": "stream",
     "text": [
      "Training Epoch 77/128: 100%|██████████| 63/63 [01:48<00:00,  1.72s/it]\n",
      "Validation Epoch 77/128: 100%|██████████| 13/13 [00:26<00:00,  2.06s/it]\n"
     ]
    },
    {
     "name": "stdout",
     "output_type": "stream",
     "text": [
      "Epoch 77/128: Train Loss: 0.0623, Val Loss: 0.0691, Val IoU: 0.6627\n"
     ]
    },
    {
     "name": "stderr",
     "output_type": "stream",
     "text": [
      "Training Epoch 78/128: 100%|██████████| 63/63 [01:47<00:00,  1.71s/it]\n",
      "Validation Epoch 78/128: 100%|██████████| 13/13 [00:26<00:00,  2.03s/it]\n"
     ]
    },
    {
     "name": "stdout",
     "output_type": "stream",
     "text": [
      "Epoch 78/128: Train Loss: 0.0609, Val Loss: 0.0707, Val IoU: 0.6601\n"
     ]
    },
    {
     "name": "stderr",
     "output_type": "stream",
     "text": [
      "Training Epoch 79/128: 100%|██████████| 63/63 [01:46<00:00,  1.69s/it]\n",
      "Validation Epoch 79/128: 100%|██████████| 13/13 [00:26<00:00,  2.02s/it]\n"
     ]
    },
    {
     "name": "stdout",
     "output_type": "stream",
     "text": [
      "Epoch 79/128: Train Loss: 0.0609, Val Loss: 0.0725, Val IoU: 0.6319\n"
     ]
    },
    {
     "name": "stderr",
     "output_type": "stream",
     "text": [
      "Training Epoch 80/128: 100%|██████████| 63/63 [01:44<00:00,  1.66s/it]\n",
      "Validation Epoch 80/128: 100%|██████████| 13/13 [00:25<00:00,  1.98s/it]\n"
     ]
    },
    {
     "name": "stdout",
     "output_type": "stream",
     "text": [
      "Epoch 80/128: Train Loss: 0.0604, Val Loss: 0.0695, Val IoU: 0.6557\n"
     ]
    },
    {
     "name": "stderr",
     "output_type": "stream",
     "text": [
      "Training Epoch 81/128: 100%|██████████| 63/63 [01:42<00:00,  1.63s/it]\n",
      "Validation Epoch 81/128: 100%|██████████| 13/13 [00:25<00:00,  2.00s/it]\n"
     ]
    },
    {
     "name": "stdout",
     "output_type": "stream",
     "text": [
      "Epoch 81/128: Train Loss: 0.0608, Val Loss: 0.0705, Val IoU: 0.6589\n"
     ]
    },
    {
     "name": "stderr",
     "output_type": "stream",
     "text": [
      "Training Epoch 82/128: 100%|██████████| 63/63 [01:44<00:00,  1.66s/it]\n",
      "Validation Epoch 82/128: 100%|██████████| 13/13 [00:26<00:00,  2.00s/it]\n"
     ]
    },
    {
     "name": "stdout",
     "output_type": "stream",
     "text": [
      "Epoch 82/128: Train Loss: 0.0605, Val Loss: 0.0732, Val IoU: 0.6390\n"
     ]
    },
    {
     "name": "stderr",
     "output_type": "stream",
     "text": [
      "Training Epoch 83/128: 100%|██████████| 63/63 [01:51<00:00,  1.77s/it]\n",
      "Validation Epoch 83/128: 100%|██████████| 13/13 [00:28<00:00,  2.20s/it]\n"
     ]
    },
    {
     "name": "stdout",
     "output_type": "stream",
     "text": [
      "Epoch 83/128: Train Loss: 0.0593, Val Loss: 0.0714, Val IoU: 0.6519\n"
     ]
    },
    {
     "name": "stderr",
     "output_type": "stream",
     "text": [
      "Training Epoch 84/128: 100%|██████████| 63/63 [01:52<00:00,  1.78s/it]\n",
      "Validation Epoch 84/128: 100%|██████████| 13/13 [00:27<00:00,  2.11s/it]\n"
     ]
    },
    {
     "name": "stdout",
     "output_type": "stream",
     "text": [
      "Epoch 84/128: Train Loss: 0.0602, Val Loss: 0.0816, Val IoU: 0.5775\n"
     ]
    },
    {
     "name": "stderr",
     "output_type": "stream",
     "text": [
      "Training Epoch 85/128: 100%|██████████| 63/63 [01:52<00:00,  1.78s/it]\n",
      "Validation Epoch 85/128: 100%|██████████| 13/13 [00:28<00:00,  2.16s/it]\n"
     ]
    },
    {
     "name": "stdout",
     "output_type": "stream",
     "text": [
      "Epoch 85/128: Train Loss: 0.0596, Val Loss: 0.0759, Val IoU: 0.6527\n"
     ]
    },
    {
     "name": "stderr",
     "output_type": "stream",
     "text": [
      "Training Epoch 86/128: 100%|██████████| 63/63 [01:53<00:00,  1.80s/it]\n",
      "Validation Epoch 86/128: 100%|██████████| 13/13 [00:27<00:00,  2.12s/it]\n"
     ]
    },
    {
     "name": "stdout",
     "output_type": "stream",
     "text": [
      "Epoch 86/128: Train Loss: 0.0588, Val Loss: 0.0691, Val IoU: 0.6554\n"
     ]
    },
    {
     "name": "stderr",
     "output_type": "stream",
     "text": [
      "Training Epoch 87/128: 100%|██████████| 63/63 [01:47<00:00,  1.71s/it]\n",
      "Validation Epoch 87/128: 100%|██████████| 13/13 [00:26<00:00,  2.06s/it]\n"
     ]
    },
    {
     "name": "stdout",
     "output_type": "stream",
     "text": [
      "Epoch 87/128: Train Loss: 0.0591, Val Loss: 0.0711, Val IoU: 0.6514\n"
     ]
    },
    {
     "name": "stderr",
     "output_type": "stream",
     "text": [
      "Training Epoch 88/128: 100%|██████████| 63/63 [01:48<00:00,  1.72s/it]\n",
      "Validation Epoch 88/128: 100%|██████████| 13/13 [00:27<00:00,  2.13s/it]\n"
     ]
    },
    {
     "name": "stdout",
     "output_type": "stream",
     "text": [
      "Epoch 88/128: Train Loss: 0.0578, Val Loss: 0.0719, Val IoU: 0.6356\n"
     ]
    },
    {
     "name": "stderr",
     "output_type": "stream",
     "text": [
      "Training Epoch 89/128: 100%|██████████| 63/63 [01:53<00:00,  1.81s/it]\n",
      "Validation Epoch 89/128: 100%|██████████| 13/13 [00:28<00:00,  2.20s/it]\n"
     ]
    },
    {
     "name": "stdout",
     "output_type": "stream",
     "text": [
      "Epoch 89/128: Train Loss: 0.0584, Val Loss: 0.0715, Val IoU: 0.6441\n"
     ]
    },
    {
     "name": "stderr",
     "output_type": "stream",
     "text": [
      "Training Epoch 90/128: 100%|██████████| 63/63 [01:52<00:00,  1.79s/it]\n",
      "Validation Epoch 90/128: 100%|██████████| 13/13 [00:27<00:00,  2.15s/it]\n"
     ]
    },
    {
     "name": "stdout",
     "output_type": "stream",
     "text": [
      "Epoch 90/128: Train Loss: 0.0588, Val Loss: 0.0683, Val IoU: 0.6594\n"
     ]
    },
    {
     "name": "stderr",
     "output_type": "stream",
     "text": [
      "Training Epoch 91/128: 100%|██████████| 63/63 [01:51<00:00,  1.77s/it]\n",
      "Validation Epoch 91/128: 100%|██████████| 13/13 [00:27<00:00,  2.15s/it]\n"
     ]
    },
    {
     "name": "stdout",
     "output_type": "stream",
     "text": [
      "Epoch 91/128: Train Loss: 0.0571, Val Loss: 0.0709, Val IoU: 0.6416\n"
     ]
    },
    {
     "name": "stderr",
     "output_type": "stream",
     "text": [
      "Training Epoch 92/128: 100%|██████████| 63/63 [01:52<00:00,  1.78s/it]\n",
      "Validation Epoch 92/128: 100%|██████████| 13/13 [00:28<00:00,  2.16s/it]\n"
     ]
    },
    {
     "name": "stdout",
     "output_type": "stream",
     "text": [
      "Epoch 92/128: Train Loss: 0.0584, Val Loss: 0.0702, Val IoU: 0.6624\n"
     ]
    },
    {
     "name": "stderr",
     "output_type": "stream",
     "text": [
      "Training Epoch 93/128: 100%|██████████| 63/63 [01:51<00:00,  1.77s/it]\n",
      "Validation Epoch 93/128: 100%|██████████| 13/13 [00:27<00:00,  2.14s/it]\n"
     ]
    },
    {
     "name": "stdout",
     "output_type": "stream",
     "text": [
      "Epoch 93/128: Train Loss: 0.0572, Val Loss: 0.0691, Val IoU: 0.6567\n"
     ]
    },
    {
     "name": "stderr",
     "output_type": "stream",
     "text": [
      "Training Epoch 94/128: 100%|██████████| 63/63 [01:51<00:00,  1.76s/it]\n",
      "Validation Epoch 94/128: 100%|██████████| 13/13 [00:28<00:00,  2.18s/it]\n"
     ]
    },
    {
     "name": "stdout",
     "output_type": "stream",
     "text": [
      "Epoch 94/128: Train Loss: 0.0564, Val Loss: 0.0741, Val IoU: 0.6455\n"
     ]
    },
    {
     "name": "stderr",
     "output_type": "stream",
     "text": [
      "Training Epoch 95/128: 100%|██████████| 63/63 [01:53<00:00,  1.80s/it]\n",
      "Validation Epoch 95/128: 100%|██████████| 13/13 [00:28<00:00,  2.16s/it]\n"
     ]
    },
    {
     "name": "stdout",
     "output_type": "stream",
     "text": [
      "Epoch 95/128: Train Loss: 0.0570, Val Loss: 0.0699, Val IoU: 0.6489\n"
     ]
    },
    {
     "name": "stderr",
     "output_type": "stream",
     "text": [
      "Training Epoch 96/128: 100%|██████████| 63/63 [01:53<00:00,  1.80s/it]\n",
      "Validation Epoch 96/128: 100%|██████████| 13/13 [00:27<00:00,  2.14s/it]\n"
     ]
    },
    {
     "name": "stdout",
     "output_type": "stream",
     "text": [
      "Epoch 96/128: Train Loss: 0.0571, Val Loss: 0.0728, Val IoU: 0.6435\n"
     ]
    },
    {
     "name": "stderr",
     "output_type": "stream",
     "text": [
      "Training Epoch 97/128: 100%|██████████| 63/63 [01:51<00:00,  1.77s/it]\n",
      "Validation Epoch 97/128: 100%|██████████| 13/13 [00:28<00:00,  2.16s/it]\n"
     ]
    },
    {
     "name": "stdout",
     "output_type": "stream",
     "text": [
      "Epoch 97/128: Train Loss: 0.0566, Val Loss: 0.0705, Val IoU: 0.6426\n"
     ]
    },
    {
     "name": "stderr",
     "output_type": "stream",
     "text": [
      "Training Epoch 98/128: 100%|██████████| 63/63 [01:52<00:00,  1.79s/it]\n",
      "Validation Epoch 98/128: 100%|██████████| 13/13 [00:28<00:00,  2.18s/it]\n"
     ]
    },
    {
     "name": "stdout",
     "output_type": "stream",
     "text": [
      "Epoch 98/128: Train Loss: 0.0554, Val Loss: 0.0722, Val IoU: 0.6600\n"
     ]
    },
    {
     "name": "stderr",
     "output_type": "stream",
     "text": [
      "Training Epoch 99/128: 100%|██████████| 63/63 [01:53<00:00,  1.80s/it]\n",
      "Validation Epoch 99/128: 100%|██████████| 13/13 [00:28<00:00,  2.18s/it]\n"
     ]
    },
    {
     "name": "stdout",
     "output_type": "stream",
     "text": [
      "Epoch 99/128: Train Loss: 0.0579, Val Loss: 0.0706, Val IoU: 0.6384\n"
     ]
    },
    {
     "name": "stderr",
     "output_type": "stream",
     "text": [
      "Training Epoch 100/128: 100%|██████████| 63/63 [01:53<00:00,  1.81s/it]\n",
      "Validation Epoch 100/128: 100%|██████████| 13/13 [00:28<00:00,  2.22s/it]\n"
     ]
    },
    {
     "name": "stdout",
     "output_type": "stream",
     "text": [
      "Epoch 100/128: Train Loss: 0.0562, Val Loss: 0.0716, Val IoU: 0.6549\n"
     ]
    },
    {
     "name": "stderr",
     "output_type": "stream",
     "text": [
      "Training Epoch 101/128: 100%|██████████| 63/63 [01:53<00:00,  1.80s/it]\n",
      "Validation Epoch 101/128: 100%|██████████| 13/13 [00:28<00:00,  2.18s/it]\n"
     ]
    },
    {
     "name": "stdout",
     "output_type": "stream",
     "text": [
      "Epoch 101/128: Train Loss: 0.0569, Val Loss: 0.0727, Val IoU: 0.6418\n"
     ]
    },
    {
     "name": "stderr",
     "output_type": "stream",
     "text": [
      "Training Epoch 102/128: 100%|██████████| 63/63 [01:53<00:00,  1.81s/it]\n",
      "Validation Epoch 102/128: 100%|██████████| 13/13 [00:28<00:00,  2.23s/it]\n"
     ]
    },
    {
     "name": "stdout",
     "output_type": "stream",
     "text": [
      "Epoch 102/128: Train Loss: 0.0564, Val Loss: 0.0708, Val IoU: 0.6623\n"
     ]
    },
    {
     "name": "stderr",
     "output_type": "stream",
     "text": [
      "Training Epoch 103/128: 100%|██████████| 63/63 [01:54<00:00,  1.82s/it]\n",
      "Validation Epoch 103/128: 100%|██████████| 13/13 [00:28<00:00,  2.20s/it]\n"
     ]
    },
    {
     "name": "stdout",
     "output_type": "stream",
     "text": [
      "Epoch 103/128: Train Loss: 0.0552, Val Loss: 0.0687, Val IoU: 0.6593\n"
     ]
    },
    {
     "name": "stderr",
     "output_type": "stream",
     "text": [
      "Training Epoch 104/128: 100%|██████████| 63/63 [01:54<00:00,  1.82s/it]\n",
      "Validation Epoch 104/128: 100%|██████████| 13/13 [00:29<00:00,  2.29s/it]\n"
     ]
    },
    {
     "name": "stdout",
     "output_type": "stream",
     "text": [
      "Epoch 104/128: Train Loss: 0.0556, Val Loss: 0.0729, Val IoU: 0.6534\n"
     ]
    },
    {
     "name": "stderr",
     "output_type": "stream",
     "text": [
      "Training Epoch 105/128: 100%|██████████| 63/63 [01:55<00:00,  1.83s/it]\n",
      "Validation Epoch 105/128: 100%|██████████| 13/13 [00:30<00:00,  2.31s/it]\n"
     ]
    },
    {
     "name": "stdout",
     "output_type": "stream",
     "text": [
      "Epoch 105/128: Train Loss: 0.0545, Val Loss: 0.0734, Val IoU: 0.6541\n"
     ]
    },
    {
     "name": "stderr",
     "output_type": "stream",
     "text": [
      "Training Epoch 106/128: 100%|██████████| 63/63 [01:55<00:00,  1.84s/it]\n",
      "Validation Epoch 106/128: 100%|██████████| 13/13 [00:29<00:00,  2.29s/it]\n"
     ]
    },
    {
     "name": "stdout",
     "output_type": "stream",
     "text": [
      "Epoch 106/128: Train Loss: 0.0542, Val Loss: 0.0796, Val IoU: 0.6277\n"
     ]
    },
    {
     "name": "stderr",
     "output_type": "stream",
     "text": [
      "Training Epoch 107/128: 100%|██████████| 63/63 [01:56<00:00,  1.84s/it]\n",
      "Validation Epoch 107/128: 100%|██████████| 13/13 [00:29<00:00,  2.25s/it]\n"
     ]
    },
    {
     "name": "stdout",
     "output_type": "stream",
     "text": [
      "Epoch 107/128: Train Loss: 0.0546, Val Loss: 0.0725, Val IoU: 0.6507\n"
     ]
    },
    {
     "name": "stderr",
     "output_type": "stream",
     "text": [
      "Training Epoch 108/128: 100%|██████████| 63/63 [01:54<00:00,  1.81s/it]\n",
      "Validation Epoch 108/128: 100%|██████████| 13/13 [00:29<00:00,  2.26s/it]\n"
     ]
    },
    {
     "name": "stdout",
     "output_type": "stream",
     "text": [
      "Epoch 108/128: Train Loss: 0.0537, Val Loss: 0.0739, Val IoU: 0.6521\n"
     ]
    },
    {
     "name": "stderr",
     "output_type": "stream",
     "text": [
      "Training Epoch 109/128: 100%|██████████| 63/63 [01:55<00:00,  1.83s/it]\n",
      "Validation Epoch 109/128: 100%|██████████| 13/13 [00:29<00:00,  2.29s/it]\n"
     ]
    },
    {
     "name": "stdout",
     "output_type": "stream",
     "text": [
      "Epoch 109/128: Train Loss: 0.0537, Val Loss: 0.0748, Val IoU: 0.6367\n"
     ]
    },
    {
     "name": "stderr",
     "output_type": "stream",
     "text": [
      "Training Epoch 110/128: 100%|██████████| 63/63 [01:54<00:00,  1.81s/it]\n",
      "Validation Epoch 110/128: 100%|██████████| 13/13 [00:29<00:00,  2.27s/it]\n"
     ]
    },
    {
     "name": "stdout",
     "output_type": "stream",
     "text": [
      "Epoch 110/128: Train Loss: 0.0540, Val Loss: 0.0770, Val IoU: 0.6266\n"
     ]
    },
    {
     "name": "stderr",
     "output_type": "stream",
     "text": [
      "Training Epoch 111/128: 100%|██████████| 63/63 [01:57<00:00,  1.87s/it]\n",
      "Validation Epoch 111/128: 100%|██████████| 13/13 [00:29<00:00,  2.29s/it]\n"
     ]
    },
    {
     "name": "stdout",
     "output_type": "stream",
     "text": [
      "Epoch 111/128: Train Loss: 0.0528, Val Loss: 0.0836, Val IoU: 0.5906\n"
     ]
    },
    {
     "name": "stderr",
     "output_type": "stream",
     "text": [
      "Training Epoch 112/128: 100%|██████████| 63/63 [01:55<00:00,  1.83s/it]\n",
      "Validation Epoch 112/128: 100%|██████████| 13/13 [00:28<00:00,  2.21s/it]\n"
     ]
    },
    {
     "name": "stdout",
     "output_type": "stream",
     "text": [
      "Epoch 112/128: Train Loss: 0.0528, Val Loss: 0.0743, Val IoU: 0.6324\n"
     ]
    },
    {
     "name": "stderr",
     "output_type": "stream",
     "text": [
      "Training Epoch 113/128: 100%|██████████| 63/63 [01:55<00:00,  1.83s/it]\n",
      "Validation Epoch 113/128: 100%|██████████| 13/13 [00:29<00:00,  2.27s/it]\n"
     ]
    },
    {
     "name": "stdout",
     "output_type": "stream",
     "text": [
      "Epoch 113/128: Train Loss: 0.0528, Val Loss: 0.0729, Val IoU: 0.6494\n"
     ]
    },
    {
     "name": "stderr",
     "output_type": "stream",
     "text": [
      "Training Epoch 114/128: 100%|██████████| 63/63 [01:57<00:00,  1.87s/it]\n",
      "Validation Epoch 114/128: 100%|██████████| 13/13 [00:29<00:00,  2.27s/it]\n"
     ]
    },
    {
     "name": "stdout",
     "output_type": "stream",
     "text": [
      "Epoch 114/128: Train Loss: 0.0532, Val Loss: 0.0721, Val IoU: 0.6499\n"
     ]
    },
    {
     "name": "stderr",
     "output_type": "stream",
     "text": [
      "Training Epoch 115/128: 100%|██████████| 63/63 [01:55<00:00,  1.83s/it]\n",
      "Validation Epoch 115/128: 100%|██████████| 13/13 [00:29<00:00,  2.24s/it]\n"
     ]
    },
    {
     "name": "stdout",
     "output_type": "stream",
     "text": [
      "Epoch 115/128: Train Loss: 0.0532, Val Loss: 0.0795, Val IoU: 0.6226\n"
     ]
    },
    {
     "name": "stderr",
     "output_type": "stream",
     "text": [
      "Training Epoch 116/128: 100%|██████████| 63/63 [01:54<00:00,  1.81s/it]\n",
      "Validation Epoch 116/128: 100%|██████████| 13/13 [00:28<00:00,  2.20s/it]\n"
     ]
    },
    {
     "name": "stdout",
     "output_type": "stream",
     "text": [
      "Epoch 116/128: Train Loss: 0.0543, Val Loss: 0.0721, Val IoU: 0.6525\n"
     ]
    },
    {
     "name": "stderr",
     "output_type": "stream",
     "text": [
      "Training Epoch 117/128: 100%|██████████| 63/63 [01:54<00:00,  1.81s/it]\n",
      "Validation Epoch 117/128: 100%|██████████| 13/13 [00:29<00:00,  2.24s/it]\n"
     ]
    },
    {
     "name": "stdout",
     "output_type": "stream",
     "text": [
      "Epoch 117/128: Train Loss: 0.0524, Val Loss: 0.0764, Val IoU: 0.6568\n"
     ]
    },
    {
     "name": "stderr",
     "output_type": "stream",
     "text": [
      "Training Epoch 118/128: 100%|██████████| 63/63 [01:57<00:00,  1.86s/it]\n",
      "Validation Epoch 118/128: 100%|██████████| 13/13 [00:30<00:00,  2.32s/it]\n"
     ]
    },
    {
     "name": "stdout",
     "output_type": "stream",
     "text": [
      "Epoch 118/128: Train Loss: 0.0527, Val Loss: 0.0749, Val IoU: 0.6493\n"
     ]
    },
    {
     "name": "stderr",
     "output_type": "stream",
     "text": [
      "Training Epoch 119/128: 100%|██████████| 63/63 [01:55<00:00,  1.83s/it]\n",
      "Validation Epoch 119/128: 100%|██████████| 13/13 [00:29<00:00,  2.27s/it]\n"
     ]
    },
    {
     "name": "stdout",
     "output_type": "stream",
     "text": [
      "Epoch 119/128: Train Loss: 0.0535, Val Loss: 0.0759, Val IoU: 0.6408\n"
     ]
    },
    {
     "name": "stderr",
     "output_type": "stream",
     "text": [
      "Training Epoch 120/128: 100%|██████████| 63/63 [01:53<00:00,  1.81s/it]\n",
      "Validation Epoch 120/128: 100%|██████████| 13/13 [00:28<00:00,  2.18s/it]\n"
     ]
    },
    {
     "name": "stdout",
     "output_type": "stream",
     "text": [
      "Epoch 120/128: Train Loss: 0.0529, Val Loss: 0.0754, Val IoU: 0.6346\n"
     ]
    },
    {
     "name": "stderr",
     "output_type": "stream",
     "text": [
      "Training Epoch 121/128: 100%|██████████| 63/63 [01:53<00:00,  1.81s/it]\n",
      "Validation Epoch 121/128: 100%|██████████| 13/13 [00:29<00:00,  2.27s/it]\n"
     ]
    },
    {
     "name": "stdout",
     "output_type": "stream",
     "text": [
      "Epoch 121/128: Train Loss: 0.0517, Val Loss: 0.0774, Val IoU: 0.6512\n"
     ]
    },
    {
     "name": "stderr",
     "output_type": "stream",
     "text": [
      "Training Epoch 122/128: 100%|██████████| 63/63 [01:57<00:00,  1.86s/it]\n",
      "Validation Epoch 122/128: 100%|██████████| 13/13 [00:28<00:00,  2.20s/it]\n"
     ]
    },
    {
     "name": "stdout",
     "output_type": "stream",
     "text": [
      "Epoch 122/128: Train Loss: 0.0512, Val Loss: 0.0758, Val IoU: 0.6584\n"
     ]
    },
    {
     "name": "stderr",
     "output_type": "stream",
     "text": [
      "Training Epoch 123/128: 100%|██████████| 63/63 [01:55<00:00,  1.84s/it]\n",
      "Validation Epoch 123/128: 100%|██████████| 13/13 [00:29<00:00,  2.28s/it]\n"
     ]
    },
    {
     "name": "stdout",
     "output_type": "stream",
     "text": [
      "Epoch 123/128: Train Loss: 0.0505, Val Loss: 0.0731, Val IoU: 0.6542\n"
     ]
    },
    {
     "name": "stderr",
     "output_type": "stream",
     "text": [
      "Training Epoch 124/128: 100%|██████████| 63/63 [01:53<00:00,  1.81s/it]\n",
      "Validation Epoch 124/128: 100%|██████████| 13/13 [00:28<00:00,  2.23s/it]\n"
     ]
    },
    {
     "name": "stdout",
     "output_type": "stream",
     "text": [
      "Epoch 124/128: Train Loss: 0.0507, Val Loss: 0.0708, Val IoU: 0.6625\n"
     ]
    },
    {
     "name": "stderr",
     "output_type": "stream",
     "text": [
      "Training Epoch 125/128: 100%|██████████| 63/63 [01:55<00:00,  1.84s/it]\n",
      "Validation Epoch 125/128: 100%|██████████| 13/13 [00:28<00:00,  2.21s/it]\n"
     ]
    },
    {
     "name": "stdout",
     "output_type": "stream",
     "text": [
      "Epoch 125/128: Train Loss: 0.0502, Val Loss: 0.0777, Val IoU: 0.6328\n"
     ]
    },
    {
     "name": "stderr",
     "output_type": "stream",
     "text": [
      "Training Epoch 126/128: 100%|██████████| 63/63 [01:56<00:00,  1.84s/it]\n",
      "Validation Epoch 126/128: 100%|██████████| 13/13 [00:28<00:00,  2.22s/it]\n"
     ]
    },
    {
     "name": "stdout",
     "output_type": "stream",
     "text": [
      "Epoch 126/128: Train Loss: 0.0500, Val Loss: 0.0768, Val IoU: 0.6353\n"
     ]
    },
    {
     "name": "stderr",
     "output_type": "stream",
     "text": [
      "Training Epoch 127/128: 100%|██████████| 63/63 [01:55<00:00,  1.83s/it]\n",
      "Validation Epoch 127/128: 100%|██████████| 13/13 [00:29<00:00,  2.25s/it]\n"
     ]
    },
    {
     "name": "stdout",
     "output_type": "stream",
     "text": [
      "Epoch 127/128: Train Loss: 0.0496, Val Loss: 0.0795, Val IoU: 0.6119\n"
     ]
    },
    {
     "name": "stderr",
     "output_type": "stream",
     "text": [
      "Training Epoch 128/128: 100%|██████████| 63/63 [01:54<00:00,  1.82s/it]\n",
      "Validation Epoch 128/128: 100%|██████████| 13/13 [00:29<00:00,  2.26s/it]"
     ]
    },
    {
     "name": "stdout",
     "output_type": "stream",
     "text": [
      "Epoch 128/128: Train Loss: 0.0501, Val Loss: 0.0747, Val IoU: 0.6523\n",
      "Best model saved with Val IoU: 0.6628\n"
     ]
    },
    {
     "name": "stderr",
     "output_type": "stream",
     "text": [
      "\n"
     ]
    }
   ],
   "source": [
    "from sklearn.metrics import jaccard_score\n",
    "from tqdm import tqdm\n",
    "\n",
    "def calculate_iou(y_true, y_pred):\n",
    "    y_true = (y_true > 0.5).float().view(-1).cpu().numpy()\n",
    "    y_pred = (y_pred > 0.5).float().view(-1).cpu().numpy()\n",
    "    return jaccard_score(y_true, y_pred, average=\"binary\")\n",
    "\n",
    "model = AtrousSegNet().to(device)\n",
    "criterion = nn.BCEWithLogitsLoss()\n",
    "optimizer = torch.optim.Adam(model.parameters(), lr=1e-4)\n",
    "\n",
    "num_epochs = 128\n",
    "best_val_iou = 0.0\n",
    "best_model_state = None\n",
    "\n",
    "train_losses, val_losses = [], []\n",
    "val_ious = []\n",
    "\n",
    "for epoch in range(num_epochs):\n",
    "    model.train()\n",
    "    train_loss = 0.0\n",
    "    for images, masks in tqdm(train_loader, desc=f\"Training Epoch {epoch+1}/{num_epochs}\"):\n",
    "        images, masks = images.to(device), masks.to(device)\n",
    "        \n",
    "        optimizer.zero_grad()\n",
    "        outputs = model(images)\n",
    "        loss = criterion(outputs, masks)\n",
    "        loss.backward()\n",
    "        optimizer.step()\n",
    "        \n",
    "        train_loss += loss.item()\n",
    "\n",
    "    train_loss /= len(train_loader)\n",
    "    train_losses.append(train_loss)\n",
    "    \n",
    "    model.eval()\n",
    "    val_loss = 0.0\n",
    "    val_iou = 0.0\n",
    "    with torch.no_grad():\n",
    "        for images, masks in tqdm(valid_loader, desc=f\"Validation Epoch {epoch+1}/{num_epochs}\"):\n",
    "            images, masks = images.to(device), masks.to(device)\n",
    "            \n",
    "            outputs = model(images)\n",
    "            loss = criterion(outputs, masks)\n",
    "            \n",
    "            val_loss += loss.item()\n",
    "            val_iou += calculate_iou(masks, torch.sigmoid(outputs))\n",
    "\n",
    "    val_loss /= len(valid_loader)\n",
    "    val_iou /= len(valid_loader)\n",
    "    val_losses.append(val_loss)\n",
    "    val_ious.append(val_iou)\n",
    "\n",
    "    print(f\"Epoch {epoch+1}/{num_epochs}: Train Loss: {train_loss:.4f}, \"\n",
    "          f\"Val Loss: {val_loss:.4f}, Val IoU: {val_iou:.4f}\")\n",
    "\n",
    "    if val_iou > best_val_iou:\n",
    "        best_val_iou = val_iou\n",
    "        best_model_state = model.state_dict()\n",
    "\n",
    "if best_model_state is not None:\n",
    "    torch.save(best_model_state, \"best_model.pth\")\n",
    "    print(f\"Best model saved with Val IoU: {best_val_iou:.4f}\")\n"
   ]
  },
  {
   "cell_type": "code",
   "execution_count": 5,
   "id": "646c6e81",
   "metadata": {
    "execution": {
     "iopub.execute_input": "2024-12-14T04:38:04.336645Z",
     "iopub.status.busy": "2024-12-14T04:38:04.336067Z",
     "iopub.status.idle": "2024-12-14T04:38:04.810214Z",
     "shell.execute_reply": "2024-12-14T04:38:04.809194Z"
    },
    "papermill": {
     "duration": 1.105141,
     "end_time": "2024-12-14T04:38:04.812339",
     "exception": false,
     "start_time": "2024-12-14T04:38:03.707198",
     "status": "completed"
    },
    "tags": []
   },
   "outputs": [
    {
     "data": {
      "image/png": "[encoded data removed]",
      "text/plain": [
       "<Figure size 640x480 with 1 Axes>"
      ]
     },
     "metadata": {},
     "output_type": "display_data"
    },
    {
     "data": {
      "image/png": "[encoded data removed]",
      "text/plain": [
       "<Figure size 640x480 with 1 Axes>"
      ]
     },
     "metadata": {},
     "output_type": "display_data"
    }
   ],
   "source": [
    "import matplotlib.pyplot as plt\n",
    "\n",
    "plt.figure()\n",
    "plt.plot(range(1, num_epochs + 1), train_losses, label='Train Loss')\n",
    "plt.plot(range(1, num_epochs + 1), val_losses, label='Validation Loss')\n",
    "plt.xlabel('Epoch')\n",
    "plt.ylabel('Loss')\n",
    "plt.title('Loss per Epoch')\n",
    "plt.legend()\n",
    "plt.grid(True)\n",
    "plt.show()\n",
    "\n",
    "plt.figure()\n",
    "plt.plot(range(1, num_epochs + 1), val_ious, label='Validation IoU')\n",
    "plt.xlabel('Epoch')\n",
    "plt.ylabel('IoU')\n",
    "plt.title('Validation IoU per Epoch')\n",
    "plt.legend()\n",
    "plt.grid(True)\n",
    "plt.show()\n"
   ]
  },
  {
   "cell_type": "code",
   "execution_count": null,
   "id": "a53be5fe",
   "metadata": {},
   "outputs": [],
   "source": []
  },
  {
   "cell_type": "code",
   "execution_count": 10,
   "id": "17ad430e",
   "metadata": {},
   "outputs": [],
   "source": [
    "import torch\n",
    "import torch.nn as nn\n",
    "from torch.utils.data import DataLoader, Dataset\n",
    "import torchvision.transforms as transforms\n",
    "from PIL import Image\n",
    "import os\n",
    "import numpy as np\n",
    "\n",
    "class BirdSoundDataset(Dataset):\n",
    "    def __init__(self, image_dir, mask_dir, transform=None, target_size=(256, 256)):\n",
    "        self.image_dir = image_dir\n",
    "        self.mask_dir = mask_dir\n",
    "        self.image_filenames = sorted(os.listdir(image_dir))\n",
    "        self.mask_filenames = sorted(os.listdir(mask_dir))\n",
    "        self.transform = transform\n",
    "        self.target_size = target_size\n",
    "\n",
    "    def __len__(self):\n",
    "        return len(self.image_filenames)\n",
    "\n",
    "    def __getitem__(self, idx):\n",
    "        img_path = os.path.join(self.image_dir, self.image_filenames[idx])\n",
    "        mask_path = os.path.join(self.mask_dir, self.mask_filenames[idx])\n",
    "        \n",
    "        image = Image.open(img_path).convert(\"RGB\")\n",
    "        mask = Image.open(mask_path).convert(\"L\")\n",
    "        \n",
    "        image = image.resize(self.target_size)\n",
    "        mask = mask.resize(self.target_size)\n",
    "        \n",
    "        mask = np.array(mask) / 255.0\n",
    "        mask = torch.tensor(mask, dtype=torch.float32).unsqueeze(0)\n",
    "        \n",
    "        if self.transform:\n",
    "            image = self.transform(image)\n",
    "        \n",
    "        return image, mask\n",
    "    \n",
    "transform = transforms.Compose([\n",
    "    transforms.ToTensor(),\n",
    "    transforms.Normalize(mean=[0.5, 0.5, 0.5], std=[0.5, 0.5, 0.5])\n",
    "])"
   ]
  },
  {
   "cell_type": "code",
   "execution_count": 14,
   "id": "53e8c3bf",
   "metadata": {},
   "outputs": [
    {
     "name": "stdout",
     "output_type": "stream",
     "text": [
      "Using device: mps\n"
     ]
    }
   ],
   "source": [
    "import torch\n",
    "\n",
    "if torch.backends.mps.is_available():\n",
    "    device = torch.device(\"mps\")\n",
    "else:\n",
    "    device = torch.device(\"cpu\")\n",
    "\n",
    "print(f\"Using device: {device}\")\n"
   ]
  },
  {
   "cell_type": "markdown",
   "id": "92cc4810",
   "metadata": {},
   "source": [
    "# 3.Evaluate your model using the test images"
   ]
  },
  {
   "cell_type": "code",
   "execution_count": 18,
   "id": "f78a7f89",
   "metadata": {
    "execution": {
     "iopub.execute_input": "2024-12-14T04:38:05.927652Z",
     "iopub.status.busy": "2024-12-14T04:38:05.927277Z",
     "iopub.status.idle": "2024-12-14T04:38:54.594347Z",
     "shell.execute_reply": "2024-12-14T04:38:54.593306Z"
    },
    "papermill": {
     "duration": 49.227869,
     "end_time": "2024-12-14T04:38:54.596934",
     "exception": false,
     "start_time": "2024-12-14T04:38:05.369065",
     "status": "completed"
    },
    "tags": []
   },
   "outputs": [
    {
     "name": "stderr",
     "output_type": "stream",
     "text": [
      "/var/folders/n9/44t9prp94l3b1lknw4mfg4dm0000gn/T/ipykernel_2703/3483314682.py:21: FutureWarning: You are using `torch.load` with `weights_only=False` (the current default value), which uses the default pickle module implicitly. It is possible to construct malicious pickle data which will execute arbitrary code during unpickling (See https://github.com/pytorch/pytorch/blob/main/SECURITY.md#untrusted-models for more details). In a future release, the default value for `weights_only` will be flipped to `True`. This limits the functions that could be executed during unpickling. Arbitrary objects will no longer be allowed to be loaded via this mode unless they are explicitly allowlisted by the user via `torch.serialization.add_safe_globals`. We recommend you start setting `weights_only=True` for any use case where you don't have full control of the loaded file. Please open an issue on GitHub for any issues related to this experimental feature.\n",
      "  model.load_state_dict(torch.load(save_path,map_location=torch.device('mps')))\n",
      "Testing: 100%|██████████| 19/19 [00:22<00:00,  1.20s/it]"
     ]
    },
    {
     "name": "stdout",
     "output_type": "stream",
     "text": [
      "Test Set IoU: 65.33%\n"
     ]
    },
    {
     "name": "stderr",
     "output_type": "stream",
     "text": [
      "\n"
     ]
    }
   ],
   "source": [
    "from sklearn.metrics import jaccard_score\n",
    "from tqdm import tqdm\n",
    "\n",
    "def calculate_iou(y_true, y_pred):\n",
    "    y_true = (y_true > 0.5).float().view(-1).cpu().numpy()\n",
    "    y_pred = (y_pred > 0.5).float().view(-1).cpu().numpy()\n",
    "    return jaccard_score(y_true, y_pred, average=\"binary\")\n",
    "\n",
    "\n",
    "test_dataset = BirdSoundDataset(\n",
    "    \"new_dataset/test/images\", \n",
    "    \"new_dataset/test/masks\", \n",
    "    transform, \n",
    "    target_size=(256, 256)\n",
    ")\n",
    "test_loader = DataLoader(test_dataset, batch_size=16, shuffle=False)\n",
    "\n",
    "def test_model(model, test_loader, save_path):\n",
    "\n",
    "    model.load_state_dict(torch.load(save_path,map_location=torch.device('mps')))\n",
    "    model.to(device)\n",
    "    model.eval()\n",
    "\n",
    "    test_iou = 0.0\n",
    "    num_samples = 0\n",
    "\n",
    "    with torch.no_grad():\n",
    "        for images, masks in tqdm(test_loader, desc=\"Testing\"):\n",
    "            images, masks = images.to(device), masks.to(device)\n",
    "\n",
    "            outputs = model(images)\n",
    "            preds = torch.sigmoid(outputs)\n",
    "\n",
    "            test_iou += calculate_iou(masks, preds)\n",
    "            num_samples += 1\n",
    "\n",
    "    average_test_iou = test_iou / num_samples\n",
    "    print(f\"Test Set IoU: {average_test_iou * 100:.2f}%\")\n",
    "    return average_test_iou\n",
    "\n",
    "save_path = \"best_model-2.pth\"\n",
    "model = AtrousSegNet().to(device)\n",
    "test_iou = test_model(model, test_loader, save_path)"
   ]
  },
  {
   "cell_type": "code",
   "execution_count": 21,
   "id": "974a14ef",
   "metadata": {},
   "outputs": [
    {
     "data": {
      "image/png": "[encoded data removed]",
      "text/plain": [
       "<Figure size 1500x500 with 3 Axes>"
      ]
     },
     "metadata": {},
     "output_type": "display_data"
    }
   ],
   "source": [
    "import torch\n",
    "import cv2\n",
    "import numpy as np\n",
    "import matplotlib.pyplot as plt\n",
    "\n",
    "\n",
    "original_image_path = 'new_dataset/test/images/XC79031_left.png'\n",
    "mask_image_path = 'new_dataset/test/masks/XC79031_left.png'\n",
    "\n",
    "original_image = cv2.imread(original_image_path)\n",
    "original_image_rgb = cv2.cvtColor(original_image, cv2.COLOR_BGR2RGB)\n",
    "\n",
    "image = cv2.resize(original_image, (256, 256))\n",
    "image = image / 255.0\n",
    "image = np.transpose(image, (2, 0, 1))\n",
    "image = torch.tensor(image, dtype=torch.float32).unsqueeze(0)\n",
    "\n",
    "mask_image = cv2.imread(mask_image_path, cv2.IMREAD_GRAYSCALE)\n",
    "\n",
    "image = image.to(device)\n",
    "\n",
    "with torch.no_grad():\n",
    "    predicted_mask = model(image)\n",
    "    predicted_mask = torch.sigmoid(predicted_mask).squeeze().cpu().numpy()\n",
    "\n",
    "predicted_mask_binary = (predicted_mask > 0.5).astype(np.uint8)\n",
    "\n",
    "predicted_mask_resized = cv2.resize(\n",
    "    predicted_mask_binary, (original_image.shape[1], original_image.shape[0]), interpolation=cv2.INTER_NEAREST\n",
    ")\n",
    "\n",
    "plt.figure(figsize=(15, 5))\n",
    "\n",
    "plt.subplot(1, 3, 1)\n",
    "plt.imshow(original_image_rgb)\n",
    "plt.title(\"Original Image\")\n",
    "plt.axis('off')\n",
    "\n",
    "plt.subplot(1, 3, 2)\n",
    "plt.imshow(mask_image, cmap='gray')\n",
    "plt.title(\"Ground Truth Mask\")\n",
    "plt.axis('off')\n",
    "\n",
    "plt.subplot(1, 3, 3)\n",
    "plt.imshow(predicted_mask_resized, cmap='gray')\n",
    "plt.title(\"Predicted Mask\")\n",
    "plt.axis('off')\n",
    "\n",
    "plt.tight_layout()\n",
    "plt.show()\n"
   ]
  },
  {
   "cell_type": "markdown",
   "id": "471dc01c",
   "metadata": {},
   "source": [
    "# 4. Your IoU score should be higher than 60"
   ]
  },
  {
   "cell_type": "markdown",
   "id": "ee35ed55",
   "metadata": {},
   "source": [
    "### Results\n",
    "### Testing: 100%|██████████| 19/19 [00:22<00:00,  1.20s/it]\n",
    "### Test Set IoU: 65.33%"
   ]
  },
  {
   "cell_type": "code",
   "execution_count": null,
   "id": "c5687ecb",
   "metadata": {},
   "outputs": [],
   "source": []
  },
  {
   "cell_type": "markdown",
   "id": "dc04c442",
   "metadata": {},
   "source": [
    "# 5. Write a 3-page report using LaTex and upload your paper to ResearchGate or Arxiv, and put your paper link here.\n"
   ]
  },
  {
   "cell_type": "markdown",
   "id": "bb8e1c96",
   "metadata": {},
   "source": [
    "## https://www.researchgate.net/publication/387180246_Noise_Isolation_in_Bird_Sound_Images_Using_AtrousSegNet_with_Multi-Scale_Contextual_Learning"
   ]
  },
  {
   "cell_type": "code",
   "execution_count": null,
   "id": "485797c0",
   "metadata": {},
   "outputs": [],
   "source": []
  },
  {
   "cell_type": "code",
   "execution_count": null,
   "id": "e405f5b7",
   "metadata": {
    "papermill": {
     "duration": 0.618668,
     "end_time": "2024-12-14T04:38:55.775323",
     "exception": false,
     "start_time": "2024-12-14T04:38:55.156655",
     "status": "completed"
    },
    "tags": []
   },
   "outputs": [],
   "source": []
  }
 ],
 "metadata": {
  "kaggle": {
   "accelerator": "gpu",
   "dataSources": [
    {
     "datasetId": 6259834,
     "sourceId": 10141943,
     "sourceType": "datasetVersion"
    }
   ],
   "dockerImageVersionId": 30805,
   "isGpuEnabled": true,
   "isInternetEnabled": true,
   "language": "python",
   "sourceType": "notebook"
  },
  "kernelspec": {
   "display_name": "Python 3",
   "language": "python",
   "name": "python3"
  },
  "language_info": {
   "codemirror_mode": {
    "name": "ipython",
    "version": 3
   },
   "file_extension": ".py",
   "mimetype": "text/x-python",
   "name": "python",
   "nbconvert_exporter": "python",
   "pygments_lexer": "ipython3",
   "version": "3.9.6"
  },
  "papermill": {
   "default_parameters": {},
   "duration": 18096.972548,
   "end_time": "2024-12-14T04:38:58.259255",
   "environment_variables": {},
   "exception": null,
   "input_path": "__notebook__.ipynb",
   "output_path": "__notebook__.ipynb",
   "parameters": {},
   "start_time": "2024-12-13T23:37:21.286707",
   "version": "2.6.0"
  }
 },
 "nbformat": 4,
 "nbformat_minor": 5
}
